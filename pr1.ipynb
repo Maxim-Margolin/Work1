{
  "nbformat": 4,
  "nbformat_minor": 0,
  "metadata": {
    "colab": {
      "provenance": [],
      "collapsed_sections": []
    },
    "kernelspec": {
      "name": "python3",
      "display_name": "Python 3"
    },
    "language_info": {
      "name": "python"
    }
  },
  "cells": [
    {
      "cell_type": "code",
      "source": [
        "import numpy as np\n",
        "import pandas as pd\n",
        "from pandas_profiling import ProfileReport"
      ],
      "metadata": {
        "id": "VOEe8XcyA-_4"
      },
      "execution_count": null,
      "outputs": []
    },
    {
      "cell_type": "code",
      "source": [
        "import math"
      ],
      "metadata": {
        "id": "Mcgr9umw2Kdn"
      },
      "execution_count": null,
      "outputs": []
    },
    {
      "cell_type": "code",
      "source": [
        "data = {'sHours':['5','5','7','10','5','8','6','8','6','8','7','7','7','7','8','6','3','5','9'],\n",
        "        'Work':['0','1','1','0','1','0','1','0','0','1','0','0','0','1','0','1','1','0','0'],\n",
        "        'Weight':['90','82','75','69','100','67','65','88','103','85','62','70','55','65','82','51','82','70','67'],\n",
        "        'Height':['175','172','177','179','180','170','179','187','184','195','170','175','168','178','190','150','176','177','172'],\n",
        "        'Way':['2','0.8','1','0.25','2','2','1.5','0.17','1','0.6667','1','1','1','1','1.5','1.5','1.5','1','1.5'],\n",
        "        'Total':['t','t','c','t','t','t','c','t','t','c','t','c','c','t','c','c','t','c','c']}"
      ],
      "metadata": {
        "id": "EgUSBM38BDWW"
      },
      "execution_count": null,
      "outputs": []
    },
    {
      "cell_type": "code",
      "source": [
        "frame = pd.DataFrame(data)\n",
        "frame"
      ],
      "metadata": {
        "colab": {
          "base_uri": "https://localhost:8080/",
          "height": 638
        },
        "id": "Se6pAS8ZGBCl",
        "outputId": "4ce49f14-1e49-4701-e917-a77c5a284907"
      },
      "execution_count": null,
      "outputs": [
        {
          "output_type": "execute_result",
          "data": {
            "text/plain": [
              "   sHours Work Weight Height     Way Total\n",
              "0       5    0     90    175       2     t\n",
              "1       5    1     82    172     0.8     t\n",
              "2       7    1     75    177       1     c\n",
              "3      10    0     69    179    0.25     t\n",
              "4       5    1    100    180       2     t\n",
              "5       8    0     67    170       2     t\n",
              "6       6    1     65    179     1.5     c\n",
              "7       8    0     88    187    0.17     t\n",
              "8       6    0    103    184       1     t\n",
              "9       8    1     85    195  0.6667     c\n",
              "10      7    0     62    170       1     t\n",
              "11      7    0     70    175       1     c\n",
              "12      7    0     55    168       1     c\n",
              "13      7    1     65    178       1     t\n",
              "14      8    0     82    190     1.5     c\n",
              "15      6    1     51    150     1.5     c\n",
              "16      3    1     82    176     1.5     t\n",
              "17      5    0     70    177       1     c\n",
              "18      9    0     67    172     1.5     c"
            ],
            "text/html": [
              "\n",
              "  <div id=\"df-bf41985c-a4bf-46f6-b3e7-92b1e110042c\">\n",
              "    <div class=\"colab-df-container\">\n",
              "      <div>\n",
              "<style scoped>\n",
              "    .dataframe tbody tr th:only-of-type {\n",
              "        vertical-align: middle;\n",
              "    }\n",
              "\n",
              "    .dataframe tbody tr th {\n",
              "        vertical-align: top;\n",
              "    }\n",
              "\n",
              "    .dataframe thead th {\n",
              "        text-align: right;\n",
              "    }\n",
              "</style>\n",
              "<table border=\"1\" class=\"dataframe\">\n",
              "  <thead>\n",
              "    <tr style=\"text-align: right;\">\n",
              "      <th></th>\n",
              "      <th>sHours</th>\n",
              "      <th>Work</th>\n",
              "      <th>Weight</th>\n",
              "      <th>Height</th>\n",
              "      <th>Way</th>\n",
              "      <th>Total</th>\n",
              "    </tr>\n",
              "  </thead>\n",
              "  <tbody>\n",
              "    <tr>\n",
              "      <th>0</th>\n",
              "      <td>5</td>\n",
              "      <td>0</td>\n",
              "      <td>90</td>\n",
              "      <td>175</td>\n",
              "      <td>2</td>\n",
              "      <td>t</td>\n",
              "    </tr>\n",
              "    <tr>\n",
              "      <th>1</th>\n",
              "      <td>5</td>\n",
              "      <td>1</td>\n",
              "      <td>82</td>\n",
              "      <td>172</td>\n",
              "      <td>0.8</td>\n",
              "      <td>t</td>\n",
              "    </tr>\n",
              "    <tr>\n",
              "      <th>2</th>\n",
              "      <td>7</td>\n",
              "      <td>1</td>\n",
              "      <td>75</td>\n",
              "      <td>177</td>\n",
              "      <td>1</td>\n",
              "      <td>c</td>\n",
              "    </tr>\n",
              "    <tr>\n",
              "      <th>3</th>\n",
              "      <td>10</td>\n",
              "      <td>0</td>\n",
              "      <td>69</td>\n",
              "      <td>179</td>\n",
              "      <td>0.25</td>\n",
              "      <td>t</td>\n",
              "    </tr>\n",
              "    <tr>\n",
              "      <th>4</th>\n",
              "      <td>5</td>\n",
              "      <td>1</td>\n",
              "      <td>100</td>\n",
              "      <td>180</td>\n",
              "      <td>2</td>\n",
              "      <td>t</td>\n",
              "    </tr>\n",
              "    <tr>\n",
              "      <th>5</th>\n",
              "      <td>8</td>\n",
              "      <td>0</td>\n",
              "      <td>67</td>\n",
              "      <td>170</td>\n",
              "      <td>2</td>\n",
              "      <td>t</td>\n",
              "    </tr>\n",
              "    <tr>\n",
              "      <th>6</th>\n",
              "      <td>6</td>\n",
              "      <td>1</td>\n",
              "      <td>65</td>\n",
              "      <td>179</td>\n",
              "      <td>1.5</td>\n",
              "      <td>c</td>\n",
              "    </tr>\n",
              "    <tr>\n",
              "      <th>7</th>\n",
              "      <td>8</td>\n",
              "      <td>0</td>\n",
              "      <td>88</td>\n",
              "      <td>187</td>\n",
              "      <td>0.17</td>\n",
              "      <td>t</td>\n",
              "    </tr>\n",
              "    <tr>\n",
              "      <th>8</th>\n",
              "      <td>6</td>\n",
              "      <td>0</td>\n",
              "      <td>103</td>\n",
              "      <td>184</td>\n",
              "      <td>1</td>\n",
              "      <td>t</td>\n",
              "    </tr>\n",
              "    <tr>\n",
              "      <th>9</th>\n",
              "      <td>8</td>\n",
              "      <td>1</td>\n",
              "      <td>85</td>\n",
              "      <td>195</td>\n",
              "      <td>0.6667</td>\n",
              "      <td>c</td>\n",
              "    </tr>\n",
              "    <tr>\n",
              "      <th>10</th>\n",
              "      <td>7</td>\n",
              "      <td>0</td>\n",
              "      <td>62</td>\n",
              "      <td>170</td>\n",
              "      <td>1</td>\n",
              "      <td>t</td>\n",
              "    </tr>\n",
              "    <tr>\n",
              "      <th>11</th>\n",
              "      <td>7</td>\n",
              "      <td>0</td>\n",
              "      <td>70</td>\n",
              "      <td>175</td>\n",
              "      <td>1</td>\n",
              "      <td>c</td>\n",
              "    </tr>\n",
              "    <tr>\n",
              "      <th>12</th>\n",
              "      <td>7</td>\n",
              "      <td>0</td>\n",
              "      <td>55</td>\n",
              "      <td>168</td>\n",
              "      <td>1</td>\n",
              "      <td>c</td>\n",
              "    </tr>\n",
              "    <tr>\n",
              "      <th>13</th>\n",
              "      <td>7</td>\n",
              "      <td>1</td>\n",
              "      <td>65</td>\n",
              "      <td>178</td>\n",
              "      <td>1</td>\n",
              "      <td>t</td>\n",
              "    </tr>\n",
              "    <tr>\n",
              "      <th>14</th>\n",
              "      <td>8</td>\n",
              "      <td>0</td>\n",
              "      <td>82</td>\n",
              "      <td>190</td>\n",
              "      <td>1.5</td>\n",
              "      <td>c</td>\n",
              "    </tr>\n",
              "    <tr>\n",
              "      <th>15</th>\n",
              "      <td>6</td>\n",
              "      <td>1</td>\n",
              "      <td>51</td>\n",
              "      <td>150</td>\n",
              "      <td>1.5</td>\n",
              "      <td>c</td>\n",
              "    </tr>\n",
              "    <tr>\n",
              "      <th>16</th>\n",
              "      <td>3</td>\n",
              "      <td>1</td>\n",
              "      <td>82</td>\n",
              "      <td>176</td>\n",
              "      <td>1.5</td>\n",
              "      <td>t</td>\n",
              "    </tr>\n",
              "    <tr>\n",
              "      <th>17</th>\n",
              "      <td>5</td>\n",
              "      <td>0</td>\n",
              "      <td>70</td>\n",
              "      <td>177</td>\n",
              "      <td>1</td>\n",
              "      <td>c</td>\n",
              "    </tr>\n",
              "    <tr>\n",
              "      <th>18</th>\n",
              "      <td>9</td>\n",
              "      <td>0</td>\n",
              "      <td>67</td>\n",
              "      <td>172</td>\n",
              "      <td>1.5</td>\n",
              "      <td>c</td>\n",
              "    </tr>\n",
              "  </tbody>\n",
              "</table>\n",
              "</div>\n",
              "      <button class=\"colab-df-convert\" onclick=\"convertToInteractive('df-bf41985c-a4bf-46f6-b3e7-92b1e110042c')\"\n",
              "              title=\"Convert this dataframe to an interactive table.\"\n",
              "              style=\"display:none;\">\n",
              "        \n",
              "  <svg xmlns=\"http://www.w3.org/2000/svg\" height=\"24px\"viewBox=\"0 0 24 24\"\n",
              "       width=\"24px\">\n",
              "    <path d=\"M0 0h24v24H0V0z\" fill=\"none\"/>\n",
              "    <path d=\"M18.56 5.44l.94 2.06.94-2.06 2.06-.94-2.06-.94-.94-2.06-.94 2.06-2.06.94zm-11 1L8.5 8.5l.94-2.06 2.06-.94-2.06-.94L8.5 2.5l-.94 2.06-2.06.94zm10 10l.94 2.06.94-2.06 2.06-.94-2.06-.94-.94-2.06-.94 2.06-2.06.94z\"/><path d=\"M17.41 7.96l-1.37-1.37c-.4-.4-.92-.59-1.43-.59-.52 0-1.04.2-1.43.59L10.3 9.45l-7.72 7.72c-.78.78-.78 2.05 0 2.83L4 21.41c.39.39.9.59 1.41.59.51 0 1.02-.2 1.41-.59l7.78-7.78 2.81-2.81c.8-.78.8-2.07 0-2.86zM5.41 20L4 18.59l7.72-7.72 1.47 1.35L5.41 20z\"/>\n",
              "  </svg>\n",
              "      </button>\n",
              "      \n",
              "  <style>\n",
              "    .colab-df-container {\n",
              "      display:flex;\n",
              "      flex-wrap:wrap;\n",
              "      gap: 12px;\n",
              "    }\n",
              "\n",
              "    .colab-df-convert {\n",
              "      background-color: #E8F0FE;\n",
              "      border: none;\n",
              "      border-radius: 50%;\n",
              "      cursor: pointer;\n",
              "      display: none;\n",
              "      fill: #1967D2;\n",
              "      height: 32px;\n",
              "      padding: 0 0 0 0;\n",
              "      width: 32px;\n",
              "    }\n",
              "\n",
              "    .colab-df-convert:hover {\n",
              "      background-color: #E2EBFA;\n",
              "      box-shadow: 0px 1px 2px rgba(60, 64, 67, 0.3), 0px 1px 3px 1px rgba(60, 64, 67, 0.15);\n",
              "      fill: #174EA6;\n",
              "    }\n",
              "\n",
              "    [theme=dark] .colab-df-convert {\n",
              "      background-color: #3B4455;\n",
              "      fill: #D2E3FC;\n",
              "    }\n",
              "\n",
              "    [theme=dark] .colab-df-convert:hover {\n",
              "      background-color: #434B5C;\n",
              "      box-shadow: 0px 1px 3px 1px rgba(0, 0, 0, 0.15);\n",
              "      filter: drop-shadow(0px 1px 2px rgba(0, 0, 0, 0.3));\n",
              "      fill: #FFFFFF;\n",
              "    }\n",
              "  </style>\n",
              "\n",
              "      <script>\n",
              "        const buttonEl =\n",
              "          document.querySelector('#df-bf41985c-a4bf-46f6-b3e7-92b1e110042c button.colab-df-convert');\n",
              "        buttonEl.style.display =\n",
              "          google.colab.kernel.accessAllowed ? 'block' : 'none';\n",
              "\n",
              "        async function convertToInteractive(key) {\n",
              "          const element = document.querySelector('#df-bf41985c-a4bf-46f6-b3e7-92b1e110042c');\n",
              "          const dataTable =\n",
              "            await google.colab.kernel.invokeFunction('convertToInteractive',\n",
              "                                                     [key], {});\n",
              "          if (!dataTable) return;\n",
              "\n",
              "          const docLinkHtml = 'Like what you see? Visit the ' +\n",
              "            '<a target=\"_blank\" href=https://colab.research.google.com/notebooks/data_table.ipynb>data table notebook</a>'\n",
              "            + ' to learn more about interactive tables.';\n",
              "          element.innerHTML = '';\n",
              "          dataTable['output_type'] = 'display_data';\n",
              "          await google.colab.output.renderOutput(dataTable, element);\n",
              "          const docLink = document.createElement('div');\n",
              "          docLink.innerHTML = docLinkHtml;\n",
              "          element.appendChild(docLink);\n",
              "        }\n",
              "      </script>\n",
              "    </div>\n",
              "  </div>\n",
              "  "
            ]
          },
          "metadata": {},
          "execution_count": 70
        }
      ]
    },
    {
      "cell_type": "code",
      "source": [
        "sHoursCur = int(input(\"Сколько часов сна? \"))\n",
        "WorkCur = int(input(\"Трудоустроен? \"))\n",
        "WeightCur = int(input(\"Какой вес? \"))\n",
        "HeightCur = int(input(\"Какой рост? \"))\n",
        "WayCur = float(input(\"Сколько времени тратите на поездку? \"))\n",
        "\n",
        "\n",
        "for x in data:\n",
        "  sHours = data['sHours']\n",
        "  Work = data['Work']\n",
        "  Weight = data['Weight']\n",
        "  Height = data['Height']\n",
        "  Way = data['Way']\n",
        "  Total = data['Total']\n",
        "\n",
        "  "
      ],
      "metadata": {
        "colab": {
          "base_uri": "https://localhost:8080/"
        },
        "id": "ELVNZdBUHcV5",
        "outputId": "024e79c7-f692-4616-a952-f1f350e9f049"
      },
      "execution_count": null,
      "outputs": [
        {
          "name": "stdout",
          "output_type": "stream",
          "text": [
            "Сколько часов сна? 10\n",
            "Трудоустроен? 0\n",
            "Какой вес? 63\n",
            "Какой рост?184\n",
            "Сколько времени тратите на поездку?0.25\n"
          ]
        }
      ]
    },
    {
      "cell_type": "code",
      "source": [
        "len(data['sHours'])"
      ],
      "metadata": {
        "colab": {
          "base_uri": "https://localhost:8080/"
        },
        "id": "IoDdlYN17qqf",
        "outputId": "d217692f-c186-4d2a-8f7b-a17811a446a7"
      },
      "execution_count": null,
      "outputs": [
        {
          "output_type": "execute_result",
          "data": {
            "text/plain": [
              "19"
            ]
          },
          "metadata": {},
          "execution_count": 72
        }
      ]
    },
    {
      "cell_type": "code",
      "source": [
        "i = 0\n",
        "dist = []\n",
        "for x in data['sHours']:\n",
        "  dist.insert(i, math.sqrt((sHoursCur - int(sHours[i])) ** 2 + (WorkCur - int(Work[i])) ** 2 + (WeightCur - int(Weight[i])) ** 2) + (HeightCur - int(Height[i])) ** 2 + (WayCur - float(Way[i])) ** 2)\n",
        "  i += 1\n",
        "  print(dist)\n",
        "\n",
        "data"
      ],
      "metadata": {
        "id": "aP_u16pW5T5G"
      },
      "execution_count": null,
      "outputs": []
    },
    {
      "cell_type": "code",
      "source": [
        "data1 = data\n",
        "data1['Dist'] =  dist\n",
        "frame1 = pd.DataFrame(data1)\n",
        "frame1"
      ],
      "metadata": {
        "id": "Cy9mixvD9EL1"
      },
      "execution_count": null,
      "outputs": []
    },
    {
      "cell_type": "code",
      "source": [
        "data2 = data1\n",
        "frame2 = pd.DataFrame(data2)\n",
        "frame2 = frame2.sort_values('Dist')\n",
        "data2 = frame2\n",
        "frame2"
      ],
      "metadata": {
        "id": "hCmpmQLHCUrZ"
      },
      "execution_count": null,
      "outputs": []
    },
    {
      "cell_type": "code",
      "source": [
        "i = 0 \n",
        "numberOfRank = 1\n",
        "rank = []\n",
        "for x in data2['sHours']:\n",
        "  rank.insert(i, numberOfRank)\n",
        "  i += 1\n",
        "  numberOfRank += 1\n",
        "\n",
        "data2[\"Rank\"] = rank\n",
        "data2"
      ],
      "metadata": {
        "id": "gChfmipKGDp6"
      },
      "execution_count": null,
      "outputs": []
    },
    {
      "cell_type": "code",
      "source": [
        "frame3 = pd.DataFrame(data2)\n",
        "frame3"
      ],
      "metadata": {
        "id": "bMr7bKfeHMZs"
      },
      "execution_count": null,
      "outputs": []
    },
    {
      "cell_type": "code",
      "source": [
        "i = 0\n",
        "TotalTea = 0\n",
        "TotalCoffee = 0\n",
        "for x in data2['Rank']:\n",
        "  TotalEnd = data2['Total']\n",
        "\n",
        "\n",
        "for x in data2['Rank']:\n",
        "  if TotalEnd[i] == 't':\n",
        "    TotalTea += 1\n",
        "  else:\n",
        "    TotalCoffee += 1\n",
        "  i += 1\n",
        "\n",
        "print(TotalCoffee)\n",
        "print(TotalTea)"
      ],
      "metadata": {
        "colab": {
          "base_uri": "https://localhost:8080/"
        },
        "id": "EqXB64rGACBx",
        "outputId": "20595750-02fb-4298-a999-16fbfd20a7fa"
      },
      "execution_count": null,
      "outputs": [
        {
          "output_type": "stream",
          "name": "stdout",
          "text": [
            "9\n",
            "10\n"
          ]
        }
      ]
    },
    {
      "cell_type": "code",
      "source": [
        "if TotalCoffee > TotalTea:\n",
        "  print('Пользователь будет предпочитать Кофе')\n",
        "else:\n",
        "  print('Пользователь будет предпочитать Чай')"
      ],
      "metadata": {
        "colab": {
          "base_uri": "https://localhost:8080/"
        },
        "id": "B3Pj9uHsCb7d",
        "outputId": "fe942e6f-84dc-4f76-fe47-8209c417f5da"
      },
      "execution_count": null,
      "outputs": [
        {
          "output_type": "stream",
          "name": "stdout",
          "text": [
            "Пользователь будет предпочитать Чай\n"
          ]
        }
      ]
    }
  ]
}
